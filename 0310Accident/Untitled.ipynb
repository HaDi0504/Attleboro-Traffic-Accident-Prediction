{
 "cells": [
  {
   "cell_type": "code",
   "execution_count": 6,
   "id": "239b50d3",
   "metadata": {},
   "outputs": [],
   "source": [
    "foobar='goat legs'"
   ]
  },
  {
   "cell_type": "code",
   "execution_count": 8,
   "id": "a272e8a9",
   "metadata": {},
   "outputs": [],
   "source": [
    "length_of_foobar=len(foobar)"
   ]
  },
  {
   "cell_type": "code",
   "execution_count": 9,
   "id": "fb34bc50",
   "metadata": {},
   "outputs": [
    {
     "data": {
      "text/plain": [
       "9"
      ]
     },
     "execution_count": 9,
     "metadata": {},
     "output_type": "execute_result"
    }
   ],
   "source": [
    "length_of_foobar"
   ]
  },
  {
   "cell_type": "code",
   "execution_count": 10,
   "id": "84c114a7",
   "metadata": {},
   "outputs": [],
   "source": [
    "length_of_string=len('goat legs')"
   ]
  },
  {
   "cell_type": "code",
   "execution_count": 11,
   "id": "c22a5192",
   "metadata": {},
   "outputs": [
    {
     "data": {
      "text/plain": [
       "9"
      ]
     },
     "execution_count": 11,
     "metadata": {},
     "output_type": "execute_result"
    }
   ],
   "source": [
    "length_of_string"
   ]
  },
  {
   "cell_type": "code",
   "execution_count": 31,
   "id": "7ecc0e87",
   "metadata": {},
   "outputs": [
    {
     "data": {
      "text/plain": [
       "'oat legs'"
      ]
     },
     "execution_count": 31,
     "metadata": {},
     "output_type": "execute_result"
    }
   ],
   "source": [
    "prefix=foobar[1:9]\n",
    "prefix"
   ]
  },
  {
   "cell_type": "code",
   "execution_count": 33,
   "id": "ac4b712a",
   "metadata": {},
   "outputs": [],
   "source": [
    "llll='sdadadad'\\\n",
    "        'asdasdasdad'"
   ]
  },
  {
   "cell_type": "code",
   "execution_count": 34,
   "id": "02c51221",
   "metadata": {},
   "outputs": [
    {
     "data": {
      "text/plain": [
       "'sdadadadasdasdasdad'"
      ]
     },
     "execution_count": 34,
     "metadata": {},
     "output_type": "execute_result"
    }
   ],
   "source": [
    "llll"
   ]
  },
  {
   "cell_type": "code",
   "execution_count": 36,
   "id": "255c0956",
   "metadata": {},
   "outputs": [
    {
     "ename": "SyntaxError",
     "evalue": "cannot assign to literal (Temp/ipykernel_19932/3971312618.py, line 1)",
     "output_type": "error",
     "traceback": [
      "\u001b[1;36m  File \u001b[1;32m\"C:\\Users\\Di\\AppData\\Local\\Temp/ipykernel_19932/3971312618.py\"\u001b[1;36m, line \u001b[1;32m1\u001b[0m\n\u001b[1;33m    1='three'\u001b[0m\n\u001b[1;37m    ^\u001b[0m\n\u001b[1;31mSyntaxError\u001b[0m\u001b[1;31m:\u001b[0m cannot assign to literal\n"
     ]
    }
   ],
   "source": []
  },
  {
   "cell_type": "code",
   "execution_count": null,
   "id": "7aa36943",
   "metadata": {},
   "outputs": [],
   "source": []
  }
 ],
 "metadata": {
  "kernelspec": {
   "display_name": "Python 3 (ipykernel)",
   "language": "python",
   "name": "python3"
  },
  "language_info": {
   "codemirror_mode": {
    "name": "ipython",
    "version": 3
   },
   "file_extension": ".py",
   "mimetype": "text/x-python",
   "name": "python",
   "nbconvert_exporter": "python",
   "pygments_lexer": "ipython3",
   "version": "3.9.7"
  }
 },
 "nbformat": 4,
 "nbformat_minor": 5
}
