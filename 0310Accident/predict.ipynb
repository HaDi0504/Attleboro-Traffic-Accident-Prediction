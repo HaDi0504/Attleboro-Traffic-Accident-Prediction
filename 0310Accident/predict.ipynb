{
 "cells": [
  {
   "cell_type": "code",
   "execution_count": 2,
   "id": "ce6307e1",
   "metadata": {},
   "outputs": [],
   "source": [
    "import joblib\n",
    "import numpy as np\n",
    "import pandas as pd"
   ]
  },
  {
   "cell_type": "code",
   "execution_count": 3,
   "id": "b0803ad5",
   "metadata": {},
   "outputs": [],
   "source": [
    "# data = pd.read_csv('data/final.csv')#合并日期\n",
    "# data = data.drop(['Latitute','Longtitute'],axis=1)\n",
    "# data[-3:].to_csv('data/show_data.csv',index=False)"
   ]
  },
  {
   "cell_type": "markdown",
   "id": "a80dfbcf",
   "metadata": {},
   "source": [
    "# 导入模型"
   ]
  },
  {
   "cell_type": "code",
   "execution_count": 4,
   "id": "5d69b027",
   "metadata": {},
   "outputs": [
    {
     "name": "stdout",
     "output_type": "stream",
     "text": [
      "MultiOutputRegressor(estimator=XGBRegressor(base_score=None, booster=None,\n",
      "                                            colsample_bylevel=None,\n",
      "                                            colsample_bynode=None,\n",
      "                                            colsample_bytree=None,\n",
      "                                            enable_categorical=False,\n",
      "                                            gamma=None, gpu_id=None,\n",
      "                                            importance_type=None,\n",
      "                                            interaction_constraints=None,\n",
      "                                            learning_rate=None,\n",
      "                                            max_delta_step=None, max_depth=None,\n",
      "                                            min_child_weight=None, missing=nan,\n",
      "                                            monotone_constraints=Non...\n",
      "                                            param_grid={'colsample_bytree': 0.5,\n",
      "                                                        'gamma': 0,\n",
      "                                                        'learning_rate': 0.05,\n",
      "                                                        'max_depth': 7,\n",
      "                                                        'min_child_weight': 1,\n",
      "                                                        'n_estimators': 1000,\n",
      "                                                        'objective': 'reg:squarederror',\n",
      "                                                        'reg_alpha': 100,\n",
      "                                                        'subsample': 0.8,\n",
      "                                                        'tree_method': 'gpu_hist',\n",
      "                                                        'verbose': 1},\n",
      "                                            predictor=None, random_state=None,\n",
      "                                            reg_alpha=None, reg_lambda=None,\n",
      "                                            scale_pos_weight=None,\n",
      "                                            subsample=None, tree_method=None,\n",
      "                                            validate_parameters=None,\n",
      "                                            verbosity=None))\n"
     ]
    }
   ],
   "source": [
    "model_name = './models/multi_xgb.model'\n",
    "model = joblib.load(model_name)\n",
    "print(model)"
   ]
  },
  {
   "cell_type": "markdown",
   "id": "de12c78c",
   "metadata": {},
   "source": [
    "# 处理数据"
   ]
  },
  {
   "cell_type": "code",
   "execution_count": 5,
   "id": "8c0f9c53",
   "metadata": {},
   "outputs": [],
   "source": [
    "data = pd.read_csv('data/show_data.csv',parse_dates=[['Crash Time','DATE']])#合并日期\n",
    "data = data.drop(['STATION','NAME','ID','Vehicle Action Prior to Crash',\n",
    "                    'Vehicle Travel Directions','X Cooordinate','Y Cooordinate'],axis=1)"
   ]
  },
  {
   "cell_type": "code",
   "execution_count": 6,
   "id": "136c3002",
   "metadata": {},
   "outputs": [],
   "source": [
    "for df in [data]:\n",
    "    df['year'] = df['Crash Time_DATE'].dt.year\n",
    "    df['month'] = df['Crash Time_DATE'].dt.month\n",
    "    df['day'] = df['Crash Time_DATE'].dt.day\n",
    "    df['hour'] = df['Crash Time_DATE'].dt.hour\n",
    "\n",
    "    df['hour_category'] = np.nan\n",
    "    df['season'] = np.nan\n",
    "    df['week'] = np.nan\n",
    "    \n",
    "    df.loc[(df.hour <= 9)&(df.hour >= 7), 'hour_category'] = \"rush\"\n",
    "    df.loc[(df.hour <= 19)&(df.hour >= 16), 'hour_category'] = \"rush\"\n",
    "    df.loc[(df.hour < 16)&(df.hour > 9), 'hour_category'] = \"day\"\n",
    "    df.loc[(df.hour < 7)|(df.hour > 19), 'hour_category'] = \"night\"\n",
    "    \n",
    "    df.loc[(df.month <= 3)&(df.month >= 1), 'season'] = 1\n",
    "    df.loc[(df.month <= 6)&(df.month >= 4), 'season'] = 2\n",
    "    df.loc[(df.month <=9)&(df.month >= 7), 'season'] = 3\n",
    "    df.loc[(df.month <=12)&(df.month >=10), 'season'] = 4\n",
    "    \n",
    "    df.loc[(df.day <= 7)&(df.day >= 1), 'week'] = 1\n",
    "    df.loc[(df.day <= 14)&(df.day >= 8), 'week'] = 2\n",
    "    df.loc[(df.day <=21)&(df.day >= 15), 'week'] = 3\n",
    "    df.loc[(df.day >=22), 'week'] = 4"
   ]
  },
  {
   "cell_type": "code",
   "execution_count": 7,
   "id": "f4a33aac",
   "metadata": {},
   "outputs": [],
   "source": [
    "Severity = pd.get_dummies(data['Crash Severity'], prefix='Severity', prefix_sep='_')\n",
    "\n",
    "Injury_Reported = pd.get_dummies(data['Maximum Injury Severity Reported'], prefix='Injury_Reported', prefix_sep='_')\n",
    "\n",
    "Manner = pd.get_dummies(data['Manner of Collision'], prefix='Manner', prefix_sep='_')\n",
    "\n",
    "Surface_Condition = pd.get_dummies(data['Road Surface Condition'], prefix='Condition', prefix_sep='_')\n",
    "\n",
    "Ambient_Light = pd.get_dummies(data['Ambient Light'], prefix='Light', prefix_sep='_')\n",
    "\n",
    "Weather_Condition = pd.get_dummies(data['Weather Condition'], prefix='Weather', prefix_sep='_')\n",
    "\n",
    "Ice = pd.get_dummies(data['Ice'], prefix='Ice', prefix_sep='_')\n",
    "\n",
    "Hour = pd.get_dummies(data['hour_category'], prefix='Hour', prefix_sep='_')\n",
    "\n",
    "Season = pd.get_dummies(data['season'], prefix='season', prefix_sep='_')\n",
    "\n",
    "Week = pd.get_dummies(data['week'], prefix='week', prefix_sep='_')\n"
   ]
  },
  {
   "cell_type": "code",
   "execution_count": 8,
   "id": "8fcbffcc",
   "metadata": {},
   "outputs": [],
   "source": [
    "Data_Master = pd.concat([data,\n",
    "                          Surface_Condition,\n",
    "                          Ambient_Light,\n",
    "                          Weather_Condition,\n",
    "                          Hour,\n",
    "                          Season,\n",
    "                          Week\n",
    "                         ], axis=1)"
   ]
  },
  {
   "cell_type": "code",
   "execution_count": 9,
   "id": "b7520f6b",
   "metadata": {},
   "outputs": [],
   "source": [
    "data = Data_Master.drop(['Crash Severity','Maximum Injury Severity Reported',\n",
    "                                  'Manner of Collision','Road Surface Condition',\n",
    "                                  'Ambient Light','Weather Condition','Ice','hour_category','Crash Time_DATE',\n",
    "                                  'Number of Vehicles','Number of Vehicles','Total Fatal Injuries',\n",
    "                                  'Total Nonfatal Injuries' ], axis = 1)"
   ]
  },
  {
   "cell_type": "code",
   "execution_count": 10,
   "id": "f36dc4be",
   "metadata": {},
   "outputs": [],
   "source": [
    "file_obj = open(\"data/attributes.txt\")\n",
    "all_lines = file_obj.readlines()\n",
    "columns = []\n",
    "for line in all_lines:\n",
    "    columns.append(line.strip())\n",
    "columns.remove('Longtitute')\n",
    "columns.remove('Latitute')"
   ]
  },
  {
   "cell_type": "code",
   "execution_count": 11,
   "id": "3c4e1750",
   "metadata": {},
   "outputs": [],
   "source": [
    "for column in columns:\n",
    "    if column not in data.columns:\n",
    "        data[column] = 0"
   ]
  },
  {
   "cell_type": "code",
   "execution_count": 12,
   "id": "2fd0d335",
   "metadata": {},
   "outputs": [],
   "source": [
    "results = model.predict(data)"
   ]
  },
  {
   "cell_type": "code",
   "execution_count": 13,
   "id": "11759ec7",
   "metadata": {},
   "outputs": [
    {
     "data": {
      "text/plain": [
       "array([[ 41.941227, -71.27854 ],\n",
       "       [ 41.92765 , -71.29881 ],\n",
       "       [ 41.937443, -71.27945 ],\n",
       "       [ 41.934162, -71.32741 ]], dtype=float32)"
      ]
     },
     "execution_count": 13,
     "metadata": {},
     "output_type": "execute_result"
    }
   ],
   "source": [
    "results"
   ]
  },
  {
   "cell_type": "code",
   "execution_count": 14,
   "id": "7ca60553",
   "metadata": {},
   "outputs": [],
   "source": [
    "# data_item = {}\n",
    "# Crash_Time_DATE= input(\"input: Crash Time_DATE: \")\n",
    "# Crash_Severity = input(\"input: Crash_Severity: \")\n",
    "# Maximum_Injury_Severity_Reported = input(\"input: Maximum Injury Severity Reported: \")\n",
    "# Number_of_Vehicles = input(\"input: Number_of_Vehicles: \")\n",
    "# Total_Fatal_Injuries = input(\"input: Total_Fatal_Injuries: \")\n",
    "# Total_Nonfatal_Injuries = input(\"input: Total_Nonfatal_Injuries: \")\n",
    "# Manner_of_Collision = input(\"input: Manner_of_Collision: \")\n",
    "# Road_Surface_Condition = input(\"input: Road_Surface_Condition: \")\n",
    "# Ambient_Light = input(\"input: Ambient_Light: \")\n",
    "# Weather_Condition = input(\"input: Weather_Condition: \")\n",
    "# PRCP = input(\"input: PRCP: \")\n",
    "# SNOW = input(\"input: SNOW: \")\n",
    "# TMAX = input(\"input: TMAX: \")\n",
    "# TMIN = input(\"input: TMIN: \")\n",
    "# Ice = input(\"input: Ice: \")"
   ]
  },
  {
   "cell_type": "code",
   "execution_count": 27,
   "id": "baf6e5e5",
   "metadata": {},
   "outputs": [],
   "source": [
    "Location=pd.DataFrame(results)"
   ]
  },
  {
   "cell_type": "code",
   "execution_count": 28,
   "id": "14eece66",
   "metadata": {},
   "outputs": [],
   "source": [
    "Location.columns =['longtitute', 'latitute']"
   ]
  },
  {
   "cell_type": "code",
   "execution_count": 29,
   "id": "a76fa671",
   "metadata": {},
   "outputs": [],
   "source": [
    "from folium import plugins\n",
    "import numpy as np \n",
    "import pandas as pd \n",
    "import folium\n",
    "import webbrowser\n",
    "from folium.plugins import HeatMap"
   ]
  },
  {
   "cell_type": "code",
   "execution_count": 30,
   "id": "9a9dc775",
   "metadata": {},
   "outputs": [],
   "source": [
    "import statistics\n",
    "meanLong = statistics.mean(Location['longtitute'])\n",
    "meanLat = statistics.mean(Location['latitute'])"
   ]
  },
  {
   "cell_type": "code",
   "execution_count": 31,
   "id": "80ca6e9a",
   "metadata": {},
   "outputs": [],
   "source": [
    "m = folium.Map(location=[meanLat, meanLong], zoom_start = 14.5)"
   ]
  },
  {
   "cell_type": "code",
   "execution_count": 32,
   "id": "ca688b71",
   "metadata": {},
   "outputs": [],
   "source": [
    "LocationM = Location.values"
   ]
  },
  {
   "cell_type": "code",
   "execution_count": 35,
   "id": "91610393",
   "metadata": {},
   "outputs": [
    {
     "data": {
      "text/html": [
       "<div style=\"width:100%;\"><div style=\"position:relative;width:100%;height:0;padding-bottom:60%;\"><span style=\"color:#565656\">Make this Notebook Trusted to load map: File -> Trust Notebook</span><iframe src=\"about:blank\" style=\"position:absolute;width:100%;height:100%;left:0;top:0;border:none !important;\" data-html=%3C%21DOCTYPE%20html%3E%0A%3Chead%3E%20%20%20%20%0A%20%20%20%20%3Cmeta%20http-equiv%3D%22content-type%22%20content%3D%22text/html%3B%20charset%3DUTF-8%22%20/%3E%0A%20%20%20%20%0A%20%20%20%20%20%20%20%20%3Cscript%3E%0A%20%20%20%20%20%20%20%20%20%20%20%20L_NO_TOUCH%20%3D%20false%3B%0A%20%20%20%20%20%20%20%20%20%20%20%20L_DISABLE_3D%20%3D%20false%3B%0A%20%20%20%20%20%20%20%20%3C/script%3E%0A%20%20%20%20%0A%20%20%20%20%3Cstyle%3Ehtml%2C%20body%20%7Bwidth%3A%20100%25%3Bheight%3A%20100%25%3Bmargin%3A%200%3Bpadding%3A%200%3B%7D%3C/style%3E%0A%20%20%20%20%3Cstyle%3E%23map%20%7Bposition%3Aabsolute%3Btop%3A0%3Bbottom%3A0%3Bright%3A0%3Bleft%3A0%3B%7D%3C/style%3E%0A%20%20%20%20%3Cscript%20src%3D%22https%3A//cdn.jsdelivr.net/npm/leaflet%401.6.0/dist/leaflet.js%22%3E%3C/script%3E%0A%20%20%20%20%3Cscript%20src%3D%22https%3A//code.jquery.com/jquery-1.12.4.min.js%22%3E%3C/script%3E%0A%20%20%20%20%3Cscript%20src%3D%22https%3A//maxcdn.bootstrapcdn.com/bootstrap/3.2.0/js/bootstrap.min.js%22%3E%3C/script%3E%0A%20%20%20%20%3Cscript%20src%3D%22https%3A//cdnjs.cloudflare.com/ajax/libs/Leaflet.awesome-markers/2.0.2/leaflet.awesome-markers.js%22%3E%3C/script%3E%0A%20%20%20%20%3Clink%20rel%3D%22stylesheet%22%20href%3D%22https%3A//cdn.jsdelivr.net/npm/leaflet%401.6.0/dist/leaflet.css%22/%3E%0A%20%20%20%20%3Clink%20rel%3D%22stylesheet%22%20href%3D%22https%3A//maxcdn.bootstrapcdn.com/bootstrap/3.2.0/css/bootstrap.min.css%22/%3E%0A%20%20%20%20%3Clink%20rel%3D%22stylesheet%22%20href%3D%22https%3A//maxcdn.bootstrapcdn.com/bootstrap/3.2.0/css/bootstrap-theme.min.css%22/%3E%0A%20%20%20%20%3Clink%20rel%3D%22stylesheet%22%20href%3D%22https%3A//maxcdn.bootstrapcdn.com/font-awesome/4.6.3/css/font-awesome.min.css%22/%3E%0A%20%20%20%20%3Clink%20rel%3D%22stylesheet%22%20href%3D%22https%3A//cdnjs.cloudflare.com/ajax/libs/Leaflet.awesome-markers/2.0.2/leaflet.awesome-markers.css%22/%3E%0A%20%20%20%20%3Clink%20rel%3D%22stylesheet%22%20href%3D%22https%3A//cdn.jsdelivr.net/gh/python-visualization/folium/folium/templates/leaflet.awesome.rotate.min.css%22/%3E%0A%20%20%20%20%0A%20%20%20%20%20%20%20%20%20%20%20%20%3Cmeta%20name%3D%22viewport%22%20content%3D%22width%3Ddevice-width%2C%0A%20%20%20%20%20%20%20%20%20%20%20%20%20%20%20%20initial-scale%3D1.0%2C%20maximum-scale%3D1.0%2C%20user-scalable%3Dno%22%20/%3E%0A%20%20%20%20%20%20%20%20%20%20%20%20%3Cstyle%3E%0A%20%20%20%20%20%20%20%20%20%20%20%20%20%20%20%20%23map_97b295fce2aa4e849016db75de675cf8%20%7B%0A%20%20%20%20%20%20%20%20%20%20%20%20%20%20%20%20%20%20%20%20position%3A%20relative%3B%0A%20%20%20%20%20%20%20%20%20%20%20%20%20%20%20%20%20%20%20%20width%3A%20100.0%25%3B%0A%20%20%20%20%20%20%20%20%20%20%20%20%20%20%20%20%20%20%20%20height%3A%20100.0%25%3B%0A%20%20%20%20%20%20%20%20%20%20%20%20%20%20%20%20%20%20%20%20left%3A%200.0%25%3B%0A%20%20%20%20%20%20%20%20%20%20%20%20%20%20%20%20%20%20%20%20top%3A%200.0%25%3B%0A%20%20%20%20%20%20%20%20%20%20%20%20%20%20%20%20%7D%0A%20%20%20%20%20%20%20%20%20%20%20%20%3C/style%3E%0A%20%20%20%20%20%20%20%20%0A%20%20%20%20%3Cscript%20src%3D%22https%3A//cdn.jsdelivr.net/gh/python-visualization/folium%40master/folium/templates/leaflet_heat.min.js%22%3E%3C/script%3E%0A%3C/head%3E%0A%3Cbody%3E%20%20%20%20%0A%20%20%20%20%0A%20%20%20%20%20%20%20%20%20%20%20%20%3Cdiv%20class%3D%22folium-map%22%20id%3D%22map_97b295fce2aa4e849016db75de675cf8%22%20%3E%3C/div%3E%0A%20%20%20%20%20%20%20%20%0A%3C/body%3E%0A%3Cscript%3E%20%20%20%20%0A%20%20%20%20%0A%20%20%20%20%20%20%20%20%20%20%20%20var%20map_97b295fce2aa4e849016db75de675cf8%20%3D%20L.map%28%0A%20%20%20%20%20%20%20%20%20%20%20%20%20%20%20%20%22map_97b295fce2aa4e849016db75de675cf8%22%2C%0A%20%20%20%20%20%20%20%20%20%20%20%20%20%20%20%20%7B%0A%20%20%20%20%20%20%20%20%20%20%20%20%20%20%20%20%20%20%20%20center%3A%20%5B-71.29605293273926%2C%2041.935120582580566%5D%2C%0A%20%20%20%20%20%20%20%20%20%20%20%20%20%20%20%20%20%20%20%20crs%3A%20L.CRS.EPSG3857%2C%0A%20%20%20%20%20%20%20%20%20%20%20%20%20%20%20%20%20%20%20%20zoom%3A%2014.5%2C%0A%20%20%20%20%20%20%20%20%20%20%20%20%20%20%20%20%20%20%20%20zoomControl%3A%20true%2C%0A%20%20%20%20%20%20%20%20%20%20%20%20%20%20%20%20%20%20%20%20preferCanvas%3A%20false%2C%0A%20%20%20%20%20%20%20%20%20%20%20%20%20%20%20%20%7D%0A%20%20%20%20%20%20%20%20%20%20%20%20%29%3B%0A%0A%20%20%20%20%20%20%20%20%20%20%20%20%0A%0A%20%20%20%20%20%20%20%20%0A%20%20%20%20%0A%20%20%20%20%20%20%20%20%20%20%20%20var%20tile_layer_dac893dc021c4a6aad9c777ae94478b8%20%3D%20L.tileLayer%28%0A%20%20%20%20%20%20%20%20%20%20%20%20%20%20%20%20%22https%3A//%7Bs%7D.tile.openstreetmap.org/%7Bz%7D/%7Bx%7D/%7By%7D.png%22%2C%0A%20%20%20%20%20%20%20%20%20%20%20%20%20%20%20%20%7B%22attribution%22%3A%20%22Data%20by%20%5Cu0026copy%3B%20%5Cu003ca%20href%3D%5C%22http%3A//openstreetmap.org%5C%22%5Cu003eOpenStreetMap%5Cu003c/a%5Cu003e%2C%20under%20%5Cu003ca%20href%3D%5C%22http%3A//www.openstreetmap.org/copyright%5C%22%5Cu003eODbL%5Cu003c/a%5Cu003e.%22%2C%20%22detectRetina%22%3A%20false%2C%20%22maxNativeZoom%22%3A%2018%2C%20%22maxZoom%22%3A%2018%2C%20%22minZoom%22%3A%200%2C%20%22noWrap%22%3A%20false%2C%20%22opacity%22%3A%201%2C%20%22subdomains%22%3A%20%22abc%22%2C%20%22tms%22%3A%20false%7D%0A%20%20%20%20%20%20%20%20%20%20%20%20%29.addTo%28map_97b295fce2aa4e849016db75de675cf8%29%3B%0A%20%20%20%20%20%20%20%20%0A%20%20%20%20%0A%20%20%20%20%20%20%20%20%20%20%20%20var%20heat_map_db93e6a6e4604493a05088fd3513824f%20%3D%20L.heatLayer%28%0A%20%20%20%20%20%20%20%20%20%20%20%20%20%20%20%20%5B%5B41.941226959228516%2C%20-71.2785415649414%5D%2C%20%5B41.927650451660156%2C%20-71.29881286621094%5D%2C%20%5B41.937442779541016%2C%20-71.27944946289062%5D%2C%20%5B41.93416213989258%2C%20-71.32740783691406%5D%5D%2C%0A%20%20%20%20%20%20%20%20%20%20%20%20%20%20%20%20%7B%22blur%22%3A%2015%2C%20%22maxZoom%22%3A%2018%2C%20%22minOpacity%22%3A%200.5%2C%20%22radius%22%3A%201%7D%0A%20%20%20%20%20%20%20%20%20%20%20%20%29.addTo%28map_97b295fce2aa4e849016db75de675cf8%29%3B%0A%20%20%20%20%20%20%20%20%0A%20%20%20%20%0A%20%20%20%20%20%20%20%20%20%20%20%20var%20heat_map_5a047d04006c405d90debe5c4296a08c%20%3D%20L.heatLayer%28%0A%20%20%20%20%20%20%20%20%20%20%20%20%20%20%20%20%5B%5B41.941226959228516%2C%20-71.2785415649414%5D%2C%20%5B41.927650451660156%2C%20-71.29881286621094%5D%2C%20%5B41.937442779541016%2C%20-71.27944946289062%5D%2C%20%5B41.93416213989258%2C%20-71.32740783691406%5D%5D%2C%0A%20%20%20%20%20%20%20%20%20%20%20%20%20%20%20%20%7B%22blur%22%3A%2015%2C%20%22maxZoom%22%3A%2018%2C%20%22minOpacity%22%3A%200.5%2C%20%22radius%22%3A%2013%7D%0A%20%20%20%20%20%20%20%20%20%20%20%20%29.addTo%28map_97b295fce2aa4e849016db75de675cf8%29%3B%0A%20%20%20%20%20%20%20%20%0A%3C/script%3E onload=\"this.contentDocument.open();this.contentDocument.write(    decodeURIComponent(this.getAttribute('data-html')));this.contentDocument.close();\" allowfullscreen webkitallowfullscreen mozallowfullscreen></iframe></div></div>"
      ],
      "text/plain": [
       "<folium.folium.Map at 0x24ecee5dd60>"
      ]
     },
     "execution_count": 35,
     "metadata": {},
     "output_type": "execute_result"
    }
   ],
   "source": [
    "m.add_child(plugins.HeatMap(LocationM, radius=13))"
   ]
  },
  {
   "cell_type": "code",
   "execution_count": null,
   "id": "d11e9b66",
   "metadata": {},
   "outputs": [],
   "source": []
  }
 ],
 "metadata": {
  "kernelspec": {
   "display_name": "Python 3 (ipykernel)",
   "language": "python",
   "name": "python3"
  },
  "language_info": {
   "codemirror_mode": {
    "name": "ipython",
    "version": 3
   },
   "file_extension": ".py",
   "mimetype": "text/x-python",
   "name": "python",
   "nbconvert_exporter": "python",
   "pygments_lexer": "ipython3",
   "version": "3.9.7"
  }
 },
 "nbformat": 4,
 "nbformat_minor": 5
}
