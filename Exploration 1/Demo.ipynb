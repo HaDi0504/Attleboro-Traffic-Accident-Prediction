{
 "cells": [
  {
   "cell_type": "code",
   "execution_count": 1,
   "id": "13e1d8eb",
   "metadata": {},
   "outputs": [],
   "source": [
    "import joblib\n",
    "import pickle"
   ]
  },
  {
   "cell_type": "code",
   "execution_count": 7,
   "id": "70eedbc2",
   "metadata": {},
   "outputs": [],
   "source": [
    "my_model_lg = joblib.load(\"acc_sev_prediction.pickle\")"
   ]
  },
  {
   "cell_type": "markdown",
   "id": "f548e127",
   "metadata": {},
   "source": [
    "'Number of Vehicles'  1-13\n",
    "'PRCP',  0-4.96\n",
    "'SNOW', 0-21\n",
    "'TMAX', 7-103\n",
    "'TMIN', -10-77\n",
    "'Ice', True/False\n",
    "       'Manner of Collision_0', \n",
    "       'Manner of Collision_Angle',\n",
    "       'Manner of Collision_Front to Front',\n",
    "       'Manner of Collision_Front to Rear', \n",
    "       'Manner of Collision_Head-on',\n",
    "       'Manner of Collision_Rear to Side', \n",
    "       'Manner of Collision_Rear-end',\n",
    "       'Manner of Collision_Rear-to-rear',\n",
    "       'Manner of Collision_Sideswipe,opposite direction',\n",
    "       'Manner of Collision_Sideswipe, same direction',\n",
    "       'Manner of Collision_Single vehicle crash', \n",
    "       'Road Surface Condition_0',\n",
    "       'Road Surface Condition_Dry', \n",
    "       'Road Surface Condition_Ice',\n",
    "       'Road Surface Condition_Other',\n",
    "       'Road Surface Condition_Sand,mud, dirt, oil, gravel',\n",
    "       'Road Surface Condition_Slush', \n",
    "       'Road Surface Condition_Snow',\n",
    "       'Road Surface Condition_Water (standing, moving)',\n",
    "       'Road Surface Condition_Wet', \n",
    "       'Ambient Light_0',\n",
    "       'Ambient Light_Dark - 0 roadway lighting',\n",
    "       'Ambient Light_Dark - lighted roadway',\n",
    "       'Ambient Light_Dark - roadway not lighted',\n",
    "       'Ambient Light_Dawn',\n",
    "       'Ambient Light_Daylight', \n",
    "       'Ambient Light_Dusk',\n",
    "       'Ambient Light_Other',\n",
    "       'Weather Condition_Clear',\n",
    "       'Weather Condition_Cloudy',\n",
    "       'Weather Condition_Cloudy/Rain',\n",
    "       'Weather Condition_Fog',\n",
    "       'Weather Condition_Rain', \n",
    "       'Weather Condition_Snow'"
   ]
  },
  {
   "cell_type": "markdown",
   "id": "8c76e5ca",
   "metadata": {},
   "source": [
    "Not Reported 0\n",
    "Property damage only (none injured) 1\n",
    "Non-fatal injury 2\n",
    "Fatal injury 3\n"
   ]
  },
  {
   "cell_type": "code",
   "execution_count": 9,
   "id": "73e603b8",
   "metadata": {},
   "outputs": [
    {
     "data": {
      "text/plain": [
       "array([1], dtype=int64)"
      ]
     },
     "execution_count": 9,
     "metadata": {},
     "output_type": "execute_result"
    }
   ],
   "source": [
    "my_model_lg.steps[-1][1].predict([[5, 3, 0, 35,22,False, 0, 0,1,0,0,0,0,0,0,0,0,0,0,0,1,0,0,0,0,0,0,1,0,0,0,0,0,0,0,1,0,0,0,0]])"
   ]
  },
  {
   "cell_type": "code",
   "execution_count": null,
   "id": "cc036c48",
   "metadata": {},
   "outputs": [],
   "source": []
  }
 ],
 "metadata": {
  "kernelspec": {
   "display_name": "Python 3 (ipykernel)",
   "language": "python",
   "name": "python3"
  },
  "language_info": {
   "codemirror_mode": {
    "name": "ipython",
    "version": 3
   },
   "file_extension": ".py",
   "mimetype": "text/x-python",
   "name": "python",
   "nbconvert_exporter": "python",
   "pygments_lexer": "ipython3",
   "version": "3.9.7"
  }
 },
 "nbformat": 4,
 "nbformat_minor": 5
}
