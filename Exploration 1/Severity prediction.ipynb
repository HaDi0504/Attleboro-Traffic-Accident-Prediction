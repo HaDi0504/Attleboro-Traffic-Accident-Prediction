{
 "cells": [
  {
   "cell_type": "code",
   "execution_count": 1,
   "id": "759a7c68",
   "metadata": {},
   "outputs": [],
   "source": [
    "import pandas as pd\n",
    "import numpy as np"
   ]
  },
  {
   "cell_type": "code",
   "execution_count": 2,
   "id": "b316ec78",
   "metadata": {},
   "outputs": [
    {
     "name": "stdout",
     "output_type": "stream",
     "text": [
      "Requirement already satisfied: imblearn in c:\\users\\di\\anaconda3\\lib\\site-packages (0.0)\n",
      "Requirement already satisfied: imbalanced-learn in c:\\users\\di\\anaconda3\\lib\\site-packages (from imblearn) (0.9.0)\n",
      "Requirement already satisfied: scipy>=1.1.0 in c:\\users\\di\\anaconda3\\lib\\site-packages (from imbalanced-learn->imblearn) (1.7.1)\n",
      "Requirement already satisfied: joblib>=0.11 in c:\\users\\di\\anaconda3\\lib\\site-packages (from imbalanced-learn->imblearn) (1.0.1)\n",
      "Requirement already satisfied: scikit-learn>=1.0.1 in c:\\users\\di\\anaconda3\\lib\\site-packages (from imbalanced-learn->imblearn) (1.0.2)\n",
      "Requirement already satisfied: numpy>=1.14.6 in c:\\users\\di\\anaconda3\\lib\\site-packages (from imbalanced-learn->imblearn) (1.20.3)\n",
      "Requirement already satisfied: threadpoolctl>=2.0.0 in c:\\users\\di\\anaconda3\\lib\\site-packages (from imbalanced-learn->imblearn) (2.2.0)\n"
     ]
    }
   ],
   "source": [
    "!pip install imblearn"
   ]
  },
  {
   "cell_type": "code",
   "execution_count": 3,
   "id": "6f6ab891",
   "metadata": {},
   "outputs": [],
   "source": [
    "from imblearn.under_sampling import RandomUnderSampler"
   ]
  },
  {
   "cell_type": "code",
   "execution_count": 4,
   "id": "692ae991",
   "metadata": {},
   "outputs": [],
   "source": [
    "from imblearn.pipeline import make_pipeline as make_pipeline_imb\n",
    "from imblearn.metrics import classification_report_imbalanced"
   ]
  },
  {
   "cell_type": "code",
   "execution_count": 5,
   "id": "13cbd57d",
   "metadata": {},
   "outputs": [],
   "source": [
    "df_ml_data = pd.read_csv(\"final.csv\")"
   ]
  },
  {
   "cell_type": "code",
   "execution_count": 8,
   "id": "c87fdf74",
   "metadata": {},
   "outputs": [],
   "source": [
    "from sklearn.pipeline import make_pipeline\n",
    "from sklearn.model_selection import train_test_split\n",
    "from sklearn.ensemble import RandomForestClassifier\n",
    "from sklearn.linear_model import LogisticRegression\n",
    "from sklearn.preprocessing import StandardScaler, OneHotEncoder\n",
    "from sklearn.neighbors import KNeighborsClassifier\n",
    "from sklearn.metrics import classification_report\n",
    "from sklearn.model_selection import GridSearchCV\n",
    "from sklearn import svm\n",
    "from sklearn.svm import SVC"
   ]
  },
  {
   "cell_type": "code",
   "execution_count": 9,
   "id": "17281830",
   "metadata": {},
   "outputs": [],
   "source": [
    "import joblib\n",
    "import pickle"
   ]
  },
  {
   "cell_type": "code",
   "execution_count": 10,
   "id": "88d14993",
   "metadata": {},
   "outputs": [],
   "source": [
    "from sklearn.base import BaseEstimator, TransformerMixin\n",
    "class PandasDummies(BaseEstimator, TransformerMixin):\n",
    "    def transform(self, X, *_):\n",
    "        return pd.get_dummies(X)\n",
    "    \n",
    "    def fit(self, *_):\n",
    "        return self"
   ]
  },
  {
   "cell_type": "code",
   "execution_count": 11,
   "id": "e9916ed8",
   "metadata": {},
   "outputs": [],
   "source": [
    "X = df_ml_data[['Number of Vehicles', 'Manner of Collision',\n",
    "                'Road Surface Condition', 'Ambient Light',\n",
    "       'Weather Condition', 'PRCP', 'SNOW', 'TMAX', 'TMIN', 'Ice']]"
   ]
  },
  {
   "cell_type": "code",
   "execution_count": 12,
   "id": "4ef029c1",
   "metadata": {},
   "outputs": [
    {
     "name": "stdout",
     "output_type": "stream",
     "text": [
      "(21493, 40) (21493,)\n"
     ]
    }
   ],
   "source": [
    "X = pd.get_dummies(X)\n",
    "y = df_ml_data['Crash Severity']\n",
    "print(X.shape, y.shape)"
   ]
  },
  {
   "cell_type": "code",
   "execution_count": 14,
   "id": "770cfc23",
   "metadata": {},
   "outputs": [],
   "source": [
    "X_train, X_test, y_train, y_test = train_test_split(X, y, random_state=42, stratify =y)\n",
    "data = X.copy()"
   ]
  },
  {
   "cell_type": "code",
   "execution_count": 15,
   "id": "1e35e1f1",
   "metadata": {},
   "outputs": [
    {
     "data": {
      "text/plain": [
       "Pipeline(steps=[('randomundersampler', RandomUnderSampler()),\n",
       "                ('standardscaler', StandardScaler()),\n",
       "                ('randomforestclassifier',\n",
       "                 RandomForestClassifier(max_depth=20, n_estimators=10))])"
      ]
     },
     "execution_count": 15,
     "metadata": {},
     "output_type": "execute_result"
    }
   ],
   "source": [
    "model1 = make_pipeline_imb(RandomUnderSampler(), StandardScaler(), RandomForestClassifier(n_estimators=10, max_depth=20))\n",
    "\n",
    "model1.fit(X_train, y_train)"
   ]
  },
  {
   "cell_type": "code",
   "execution_count": 16,
   "id": "6399dbf7",
   "metadata": {},
   "outputs": [],
   "source": [
    "y_pred = model1.predict(X_test)"
   ]
  },
  {
   "cell_type": "code",
   "execution_count": 18,
   "id": "e7e4f8e1",
   "metadata": {},
   "outputs": [
    {
     "name": "stdout",
     "output_type": "stream",
     "text": [
      "Training Data Score with Random Forest Classifier: 0.2770643340157578\n",
      "Testing Data Score with Random Forest Classifier: 0.283029400818757\n"
     ]
    }
   ],
   "source": [
    "print(f\"Training Data Score with Random Forest Classifier: {model1.score(X_train, y_train)}\")\n",
    "print(f\"Testing Data Score with Random Forest Classifier: {model1.score(X_test, y_test)}\")"
   ]
  },
  {
   "cell_type": "code",
   "execution_count": 19,
   "id": "639c4a47",
   "metadata": {},
   "outputs": [
    {
     "data": {
      "text/plain": [
       "['acc_sev_prediction.pickle']"
      ]
     },
     "execution_count": 19,
     "metadata": {},
     "output_type": "execute_result"
    }
   ],
   "source": [
    "filename = 'acc_sev_prediction.pickle'\n",
    "joblib.dump(model1, filename)"
   ]
  },
  {
   "cell_type": "code",
   "execution_count": 20,
   "id": "3b8bcd72",
   "metadata": {},
   "outputs": [],
   "source": [
    "pipe = make_pipeline_imb(RandomUnderSampler(),\n",
    "                         StandardScaler(),\n",
    "                         RandomForestClassifier(n_estimators=10, max_depth=10))\n",
    "\n",
    "pipe.fit(X_train, y_train)\n",
    "y_pred = pipe.predict(X_test)"
   ]
  },
  {
   "cell_type": "code",
   "execution_count": 21,
   "id": "4a4eccfe",
   "metadata": {},
   "outputs": [
    {
     "name": "stdout",
     "output_type": "stream",
     "text": [
      "                   pre       rec       spe        f1       geo       iba       sup\n",
      "\n",
      "          0       0.05      0.31      0.72      0.08      0.48      0.22       229\n",
      "          1       0.69      0.28      0.72      0.40      0.45      0.19      3682\n",
      "          2       0.26      0.17      0.82      0.21      0.38      0.13      1448\n",
      "          3       0.00      0.20      0.73      0.00      0.38      0.14        15\n",
      "\n",
      "avg / total       0.54      0.25      0.75      0.33      0.43      0.18      5374\n",
      "\n"
     ]
    }
   ],
   "source": [
    "print(classification_report_imbalanced(y_test, y_pred))"
   ]
  },
  {
   "cell_type": "code",
   "execution_count": 22,
   "id": "b241f779",
   "metadata": {},
   "outputs": [
    {
     "name": "stdout",
     "output_type": "stream",
     "text": [
      "Training Data Score with Random Forest Classifier: 0.2588249891432471\n",
      "Testing Data Score with Random Forest Classifier: 0.25139560848529957\n"
     ]
    }
   ],
   "source": [
    "print(f\"Training Data Score with Random Forest Classifier: {pipe.score(X_train, y_train)}\")\n",
    "print(f\"Testing Data Score with Random Forest Classifier: {pipe.score(X_test, y_test)}\")"
   ]
  },
  {
   "cell_type": "code",
   "execution_count": 23,
   "id": "85626055",
   "metadata": {},
   "outputs": [],
   "source": [
    "lg_pipe = make_pipeline_imb(RandomUnderSampler(),\n",
    "                         StandardScaler(),\n",
    "                         LogisticRegression())\n",
    "\n",
    "lg_pipe.fit(X_train, y_train)\n",
    "y_pred = lg_pipe.predict(X_test)"
   ]
  },
  {
   "cell_type": "code",
   "execution_count": 24,
   "id": "66c08aa5",
   "metadata": {},
   "outputs": [
    {
     "name": "stdout",
     "output_type": "stream",
     "text": [
      "                   pre       rec       spe        f1       geo       iba       sup\n",
      "\n",
      "          0       0.07      0.31      0.80      0.11      0.50      0.24       229\n",
      "          1       0.73      0.35      0.72      0.47      0.50      0.24      3682\n",
      "          2       0.31      0.32      0.74      0.31      0.49      0.23      1448\n",
      "          3       0.00      0.33      0.80      0.01      0.52      0.25        15\n",
      "\n",
      "avg / total       0.59      0.34      0.73      0.41      0.50      0.24      5374\n",
      "\n"
     ]
    }
   ],
   "source": [
    "print(classification_report_imbalanced(y_test, y_pred))"
   ]
  },
  {
   "cell_type": "code",
   "execution_count": 25,
   "id": "2d9313fc",
   "metadata": {},
   "outputs": [
    {
     "name": "stdout",
     "output_type": "stream",
     "text": [
      "Training Data Score with Logistic Classifier: 0.334822259445375\n",
      "Testing Data Score with Logistic Classifier: 0.3386676590993673\n"
     ]
    }
   ],
   "source": [
    "print(f\"Training Data Score with Logistic Classifier: {lg_pipe.score(X_train, y_train)}\")\n",
    "print(f\"Testing Data Score with Logistic Classifier: {lg_pipe.score(X_test, y_test)}\")"
   ]
  },
  {
   "cell_type": "code",
   "execution_count": 26,
   "id": "e268c022",
   "metadata": {},
   "outputs": [
    {
     "data": {
      "text/plain": [
       "['acc_sev_prediction.pickle']"
      ]
     },
     "execution_count": 26,
     "metadata": {},
     "output_type": "execute_result"
    }
   ],
   "source": [
    "filename = 'acc_sev_prediction.pickle'\n",
    "joblib.dump(pipe, filename)"
   ]
  },
  {
   "cell_type": "code",
   "execution_count": 27,
   "id": "90d183b6",
   "metadata": {},
   "outputs": [],
   "source": [
    "my_model_lg = joblib.load(\"acc_sev_prediction.pickle\")"
   ]
  },
  {
   "cell_type": "code",
   "execution_count": 28,
   "id": "b5caf15c",
   "metadata": {},
   "outputs": [],
   "source": [
    "pd.set_option('display.max_columns', None)"
   ]
  },
  {
   "cell_type": "markdown",
   "id": "65be986a",
   "metadata": {},
   "source": [
    "'Number of Vehicles'  1-13\n",
    "'PRCP',  0-4.96\n",
    "'SNOW', 0-21\n",
    "'TMAX', 7-103\n",
    "'TMIN', -10-77\n",
    "'Ice', True/False\n",
    "       'Manner of Collision_0', \n",
    "       'Manner of Collision_Angle',\n",
    "       'Manner of Collision_Front to Front',\n",
    "       'Manner of Collision_Front to Rear', \n",
    "       'Manner of Collision_Head-on',\n",
    "       'Manner of Collision_Rear to Side', \n",
    "       'Manner of Collision_Rear-end',\n",
    "       'Manner of Collision_Rear-to-rear',\n",
    "       'Manner of Collision_Sideswipe,opposite direction',\n",
    "       'Manner of Collision_Sideswipe, same direction',\n",
    "       'Manner of Collision_Single vehicle crash', \n",
    "       'Road Surface Condition_0',\n",
    "       'Road Surface Condition_Dry', \n",
    "       'Road Surface Condition_Ice',\n",
    "       'Road Surface Condition_Other',\n",
    "       'Road Surface Condition_Sand,mud, dirt, oil, gravel',\n",
    "       'Road Surface Condition_Slush', \n",
    "       'Road Surface Condition_Snow',\n",
    "       'Road Surface Condition_Water (standing, moving)',\n",
    "       'Road Surface Condition_Wet', \n",
    "       'Ambient Light_0',\n",
    "       'Ambient Light_Dark - 0 roadway lighting',\n",
    "       'Ambient Light_Dark - lighted roadway',\n",
    "       'Ambient Light_Dark - roadway not lighted',\n",
    "       'Ambient Light_Dawn',\n",
    "       'Ambient Light_Daylight', \n",
    "       'Ambient Light_Dusk',\n",
    "       'Ambient Light_Other',\n",
    "       'Weather Condition_Clear',\n",
    "       'Weather Condition_Cloudy',\n",
    "       'Weather Condition_Cloudy/Rain',\n",
    "       'Weather Condition_Fog',\n",
    "       'Weather Condition_Rain', \n",
    "       'Weather Condition_Snow'"
   ]
  },
  {
   "cell_type": "code",
   "execution_count": 31,
   "id": "073399db",
   "metadata": {},
   "outputs": [
    {
     "data": {
      "text/plain": [
       "array([1], dtype=int64)"
      ]
     },
     "execution_count": 31,
     "metadata": {},
     "output_type": "execute_result"
    }
   ],
   "source": [
    "my_model_lg.steps[-1][1].predict([[5, 3, 0, 35,22,False, 0, 0,1,0,0,0,0,0,0,0,0,0,0,0,1,0,0,0,0,0,0,1,0,0,0,0,0,0,0,1,0,0,0,0]])"
   ]
  },
  {
   "cell_type": "markdown",
   "id": "2a352b70",
   "metadata": {},
   "source": [
    "Not Reported 0\n",
    "Property damage only (none injured) 1\n",
    "Non-fatal injury 2\n",
    "Fatal injury 3\n"
   ]
  }
 ],
 "metadata": {
  "kernelspec": {
   "display_name": "Python 3 (ipykernel)",
   "language": "python",
   "name": "python3"
  },
  "language_info": {
   "codemirror_mode": {
    "name": "ipython",
    "version": 3
   },
   "file_extension": ".py",
   "mimetype": "text/x-python",
   "name": "python",
   "nbconvert_exporter": "python",
   "pygments_lexer": "ipython3",
   "version": "3.9.7"
  }
 },
 "nbformat": 4,
 "nbformat_minor": 5
}
