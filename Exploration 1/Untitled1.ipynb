{
 "cells": [
  {
   "cell_type": "code",
   "execution_count": 1,
   "id": "ad861720",
   "metadata": {},
   "outputs": [],
   "source": [
    "41.986257, -71.269201"
   ]
  },
  {
   "cell_type": "code",
   "execution_count": 2,
   "id": "8aeb544e",
   "metadata": {},
   "outputs": [
    {
     "data": {
      "text/plain": [
       "(41.893095, -71.381891)"
      ]
     },
     "execution_count": 2,
     "metadata": {},
     "output_type": "execute_result"
    }
   ],
   "source": [
    "41.893095, -71.381891"
   ]
  },
  {
   "cell_type": "code",
   "execution_count": null,
   "id": "54d769fa",
   "metadata": {},
   "outputs": [],
   "source": [
    "LON1 = 41.893095 \n",
    "LON2 = 41.986257\n",
    "LAT1 = -71.381891\n",
    "LAT2 = -71.269201"
   ]
  }
 ],
 "metadata": {
  "kernelspec": {
   "display_name": "Python 3 (ipykernel)",
   "language": "python",
   "name": "python3"
  },
  "language_info": {
   "codemirror_mode": {
    "name": "ipython",
    "version": 3
   },
   "file_extension": ".py",
   "mimetype": "text/x-python",
   "name": "python",
   "nbconvert_exporter": "python",
   "pygments_lexer": "ipython3",
   "version": "3.9.7"
  }
 },
 "nbformat": 4,
 "nbformat_minor": 5
}
